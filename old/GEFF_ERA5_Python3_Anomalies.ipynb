{
 "cells": [
  {
   "cell_type": "markdown",
   "metadata": {},
   "source": [
    "# Anomalies\n",
    "\n",
    "An anomaly is the difference of a given state of the climate compared to the present climate. To characterise the current climate, we use the following time period: 1981-2010.\n",
    "\n",
    "We also focus on Europe: 25W-40E, 34N-72N."
   ]
  },
  {
   "cell_type": "code",
   "execution_count": 1,
   "metadata": {},
   "outputs": [],
   "source": [
    "# Standard imports\n",
    "import numpy as np\n",
    "import pandas as pd\n",
    "import datetime as dt\n",
    "import matplotlib.pyplot as plt\n",
    "import xarray as xr\n",
    "\n",
    "%matplotlib inline"
   ]
  },
  {
   "cell_type": "code",
   "execution_count": 23,
   "metadata": {},
   "outputs": [],
   "source": [
    "# Open fwi.nc as dataset\n",
    "ds = xr.open_dataset('/perm/mo/moc0/data/fwi_198001_201907_Europe.nc')\n",
    "da = ds.fwi"
   ]
  },
  {
   "cell_type": "code",
   "execution_count": 3,
   "metadata": {},
   "outputs": [
    {
     "name": "stderr",
     "output_type": "stream",
     "text": [
      "/usr/local/apps/python3/3.6.9-01/lib/python3.6/site-packages/xarray/core/nanops.py:160: RuntimeWarning: Mean of empty slice\n",
      "  return np.nanmean(a, axis=axis, dtype=dtype)\n",
      "/usr/local/apps/python3/3.6.9-01/lib/python3.6/site-packages/numpy/lib/nanfunctions.py:1628: RuntimeWarning: Degrees of freedom <= 0 for slice.\n",
      "  keepdims=keepdims)\n"
     ]
    },
    {
     "data": {
      "text/plain": [
       "<xarray.DataArray 'fwi' (time: 14457, lat: 135, lon: 231, month: 12)>\n",
       "array([[[[-0.40609 , ..., -0.394107],\n",
       "         ...,\n",
       "         [      nan, ...,       nan]],\n",
       "\n",
       "        ...,\n",
       "\n",
       "        [[      nan, ...,       nan],\n",
       "         ...,\n",
       "         [-0.360697, ..., -0.308951]]],\n",
       "\n",
       "\n",
       "       ...,\n",
       "\n",
       "\n",
       "       [[[-6.374403, ..., -6.18631 ],\n",
       "         ...,\n",
       "         [      nan, ...,       nan]],\n",
       "\n",
       "        ...,\n",
       "\n",
       "        [[      nan, ...,       nan],\n",
       "         ...,\n",
       "         [-2.314685, ..., -1.982619]]]], dtype=float32)\n",
       "Coordinates:\n",
       "  * lon      (lon) float32 -24.75 -24.46875 -24.1875 ... 39.375 39.65625 39.9375\n",
       "  * lat      (lat) float32 71.80322 71.522194 71.241165 ... 34.426216 34.145187\n",
       "  * time     (time) datetime64[ns] 1980-01-01 1980-01-02 ... 2019-07-31\n",
       "  * month    (month) int64 1 2 3 4 5 6 7 8 9 10 11 12"
      ]
     },
     "execution_count": 3,
     "metadata": {},
     "output_type": "execute_result"
    }
   ],
   "source": [
    "# Calculate anomalies in units of standard deviations\n",
    "dam = da.groupby('time.month')\n",
    "clim_mean = dam.mean(dim = 'time', skipna = True)\n",
    "clim_sd = dam.std(dim = 'time', skipna = True)\n",
    "anom = (dam - clim_mean) / clim_sd\n",
    "anom"
   ]
  },
  {
   "cell_type": "code",
   "execution_count": 8,
   "metadata": {},
   "outputs": [
    {
     "ename": "SyntaxError",
     "evalue": "invalid syntax (<ipython-input-8-89e2e9aa8688>, line 2)",
     "output_type": "error",
     "traceback": [
      "\u001b[0;36m  File \u001b[0;32m\"<ipython-input-8-89e2e9aa8688>\"\u001b[0;36m, line \u001b[0;32m2\u001b[0m\n\u001b[0;31m    anom1 = anom[0,,,]\u001b[0m\n\u001b[0m                   ^\u001b[0m\n\u001b[0;31mSyntaxError\u001b[0m\u001b[0;31m:\u001b[0m invalid syntax\n"
     ]
    }
   ],
   "source": [
    "# Plot a random date\n",
    "anom1 = anom[0,,,]\n",
    "anom1.plot();"
   ]
  },
  {
   "cell_type": "code",
   "execution_count": 19,
   "metadata": {},
   "outputs": [
    {
     "data": {
      "text/plain": [
       "<xarray.DataArray 'fwi' (month: 12, lat: 135, lon: 231)>\n",
       "array([[[ 0.11937 ,  0.133628, ...,       nan,       nan],\n",
       "        [ 0.182948,  0.167735, ...,       nan,       nan],\n",
       "        ...,\n",
       "        [      nan,       nan, ..., 11.802231, 12.690201],\n",
       "        [      nan,       nan, ..., 13.947642, 14.156335]],\n",
       "\n",
       "       [[ 0.112813,  0.124668, ...,       nan,       nan],\n",
       "        [ 0.171649,  0.155016, ...,       nan,       nan],\n",
       "        ...,\n",
       "        [      nan,       nan, ..., 16.221844, 17.403269],\n",
       "        [      nan,       nan, ..., 18.990257, 19.001852]],\n",
       "\n",
       "       ...,\n",
       "\n",
       "       [[ 0.143   ,  0.158682, ...,       nan,       nan],\n",
       "        [ 0.227931,  0.209707, ...,       nan,       nan],\n",
       "        ...,\n",
       "        [      nan,       nan, ..., 25.391375, 26.33503 ],\n",
       "        [      nan,       nan, ..., 27.222595, 27.187105]],\n",
       "\n",
       "       [[ 0.15359 ,  0.168779, ...,       nan,       nan],\n",
       "        [ 0.22991 ,  0.212691, ...,       nan,       nan],\n",
       "        ...,\n",
       "        [      nan,       nan, ..., 16.054852, 16.784796],\n",
       "        [      nan,       nan, ..., 18.078363, 18.21788 ]]], dtype=float32)\n",
       "Coordinates:\n",
       "  * lon      (lon) float32 -24.75 -24.46875 -24.1875 ... 39.375 39.65625 39.9375\n",
       "  * lat      (lat) float32 71.80322 71.522194 71.241165 ... 34.426216 34.145187\n",
       "  * month    (month) int64 1 2 3 4 5 6 7 8 9 10 11 12"
      ]
     },
     "execution_count": 19,
     "metadata": {},
     "output_type": "execute_result"
    }
   ],
   "source": [
    "clim_mean"
   ]
  },
  {
   "cell_type": "code",
   "execution_count": 20,
   "metadata": {},
   "outputs": [
    {
     "data": {
      "text/plain": [
       "<xarray.DataArray 'fwi' (time: 14457, lat: 135, lon: 231, month: 12)>\n",
       "array([[[[-0.40609 , ..., -0.394107],\n",
       "         ...,\n",
       "         [      nan, ...,       nan]],\n",
       "\n",
       "        ...,\n",
       "\n",
       "        [[      nan, ...,       nan],\n",
       "         ...,\n",
       "         [-0.360697, ..., -0.308951]]],\n",
       "\n",
       "\n",
       "       ...,\n",
       "\n",
       "\n",
       "       [[[-6.374403, ..., -6.18631 ],\n",
       "         ...,\n",
       "         [      nan, ...,       nan]],\n",
       "\n",
       "        ...,\n",
       "\n",
       "        [[      nan, ...,       nan],\n",
       "         ...,\n",
       "         [-2.314685, ..., -1.982619]]]], dtype=float32)\n",
       "Coordinates:\n",
       "  * lon      (lon) float32 -24.75 -24.46875 -24.1875 ... 39.375 39.65625 39.9375\n",
       "  * lat      (lat) float32 71.80322 71.522194 71.241165 ... 34.426216 34.145187\n",
       "  * time     (time) datetime64[ns] 1980-01-01 1980-01-02 ... 2019-07-31\n",
       "  * month    (month) int64 1 2 3 4 5 6 7 8 9 10 11 12"
      ]
     },
     "execution_count": 20,
     "metadata": {},
     "output_type": "execute_result"
    }
   ],
   "source": [
    "anom"
   ]
  },
  {
   "cell_type": "code",
   "execution_count": null,
   "metadata": {},
   "outputs": [],
   "source": []
  }
 ],
 "metadata": {
  "kernelspec": {
   "display_name": "Python 3",
   "language": "python",
   "name": "python3"
  },
  "language_info": {
   "codemirror_mode": {
    "name": "ipython",
    "version": 3
   },
   "file_extension": ".py",
   "mimetype": "text/x-python",
   "name": "python",
   "nbconvert_exporter": "python",
   "pygments_lexer": "ipython3",
   "version": "3.6.9"
  }
 },
 "nbformat": 4,
 "nbformat_minor": 2
}
