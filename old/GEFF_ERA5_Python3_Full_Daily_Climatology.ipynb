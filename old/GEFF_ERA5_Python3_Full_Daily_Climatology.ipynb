{
 "cells": [
  {
   "cell_type": "code",
   "execution_count": null,
   "metadata": {},
   "outputs": [],
   "source": [
    "%matplotlib inline\n",
    "\n",
    "from datetime import timedelta, date\n",
    "import numpy as np\n",
    "import xarray as xr"
   ]
  },
  {
   "cell_type": "code",
   "execution_count": null,
   "metadata": {},
   "outputs": [],
   "source": [
    "# Open dataset without dask\n",
    "ds = xr.open_dataset(\"/scratch/rd/nen/perClaudia/era5/fwi.nc\")"
   ]
  },
  {
   "cell_type": "code",
   "execution_count": null,
   "metadata": {},
   "outputs": [],
   "source": [
    "# Extract data array (1 variable)\n",
    "fwi = ds['fwi']\n",
    "fwi"
   ]
  },
  {
   "cell_type": "code",
   "execution_count": null,
   "metadata": {},
   "outputs": [],
   "source": [
    "# Generate daily climatological maps corresponding to the daily 90th percentile \n",
    "\n",
    "def daterange(start_date, end_date):\n",
    "    for n in range(int ((end_date - start_date).days)):\n",
    "        yield start_date + timedelta(n)\n",
    "\n",
    "# Initialise\n",
    "danger_threshold_maps = []\n",
    "# Use a random leap year (day and month are used, year is ignored)\n",
    "start_date = date(2020, 1, 1)\n",
    "end_date = date(2021, 1, 1)\n",
    "for single_date in daterange(start_date, end_date):\n",
    "    print(single_date)\n",
    "    # Find indices corresponding to a given date\n",
    "    idx = np.concatenate(np.where((fwi.time.dt.day == single_date.day) & (fwi.time.dt.month == single_date.month)))\n",
    "    indices_list = []\n",
    "    for i in idx:\n",
    "        indices_list.append(list(range(i - 4, i + 4 + 1)))\n",
    "    # Concatenate all the indices in a 1-dimensional array\n",
    "    indices = np.concatenate(indices_list)\n",
    "    # Remove negative indices\n",
    "    indices = indices[indices >= 0]\n",
    "    # Remove indices above the time length\n",
    "    indices = indices[indices <= (fwi.shape[0] - 1)] # last element is non inclusive\n",
    "    # Calculate the maps of daily 90th percentile as maps of danger thresholds\n",
    "    fwi_daily_clima = fwi[indices,:,:]\n",
    "    daily_danger_threshold_map = fwi_daily_clima.quantile(q = 0.90, dim = 'time', keep_attrs = True)\n",
    "    danger_threshold_maps.append(daily_danger_threshold_map)\n",
    "\n",
    "# Concatenate\n",
    "combined = xr.concat(danger_threshold_maps, dim = 'time')\n",
    "combined"
   ]
  },
  {
   "cell_type": "code",
   "execution_count": null,
   "metadata": {},
   "outputs": [],
   "source": [
    "combined.to_netcdf(path = '/scratch/rd/nen/perClaudia/era5/fwi_era5_1980_2018_90th_daily_clima.nc')"
   ]
  }
 ],
 "metadata": {
  "kernelspec": {
   "display_name": "Python 3",
   "language": "python",
   "name": "python3"
  },
  "language_info": {
   "codemirror_mode": {
    "name": "ipython",
    "version": 3
   },
   "file_extension": ".py",
   "mimetype": "text/x-python",
   "name": "python",
   "nbconvert_exporter": "python",
   "pygments_lexer": "ipython3",
   "version": "3.6.8"
  }
 },
 "nbformat": 4,
 "nbformat_minor": 2
}
