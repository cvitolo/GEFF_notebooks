{
 "cells": [
  {
   "cell_type": "code",
   "execution_count": null,
   "metadata": {},
   "outputs": [],
   "source": [
    "%matplotlib inline\n",
    "\n",
    "from datetime import timedelta, date\n",
    "import numpy as np\n",
    "import xarray as xr"
   ]
  },
  {
   "cell_type": "code",
   "execution_count": null,
   "metadata": {},
   "outputs": [],
   "source": [
    "# Using dask\n",
    "import dask\n",
    "from dask import compute\n",
    "from dask.distributed import Client\n",
    "\n",
    "client = Client(n_workers = 2, threads_per_worker = 2, memory_limit = \"8GB\")\n",
    "client"
   ]
  },
  {
   "cell_type": "code",
   "execution_count": null,
   "metadata": {},
   "outputs": [],
   "source": [
    "def percentile_ufunc(data, q, axis):\n",
    "    if q == 0:\n",
    "        perc = np.amin(data, axis = axis)\n",
    "    elif q == 50:\n",
    "        perc = np.median(data, axis = axis)\n",
    "    elif q == 100:\n",
    "        perc = np.amax(data, axis = axis)\n",
    "    else:\n",
    "        perc = np.percentile(data, q = q, axis = axis)\n",
    "    return perc\n",
    "\n",
    "def compute_percentile(data, q, dim):\n",
    "    print(\"Computing percentile \" + str(q))\n",
    "    perc = xr.apply_ufunc(percentile_ufunc, data,\n",
    "                          input_core_dims = [[dim]],\n",
    "                          dask = 'parallelized',\n",
    "                          output_dtypes = [data.dtype],\n",
    "                          kwargs = {'q': q, 'axis': -1})\n",
    "    return perc"
   ]
  },
  {
   "cell_type": "code",
   "execution_count": null,
   "metadata": {},
   "outputs": [],
   "source": [
    "# Open dataset with dask\n",
    "ds = xr.open_dataset(\"/scratch/rd/nen/perClaudia/era5/fwi_era5_1980_2016.nc\", chunks = {'lat': 10, 'lon': 10})"
   ]
  },
  {
   "cell_type": "code",
   "execution_count": null,
   "metadata": {},
   "outputs": [],
   "source": [
    "# Extract data array\n",
    "fwi = ds['fwi']"
   ]
  },
  {
   "cell_type": "code",
   "execution_count": null,
   "metadata": {},
   "outputs": [],
   "source": [
    "# Compute 90th percentile\n",
    "fwi90 = compute_percentile(fwi, q = 90, dim = 'time')\n",
    "x = fwi90.compute()"
   ]
  },
  {
   "cell_type": "code",
   "execution_count": null,
   "metadata": {},
   "outputs": [],
   "source": [
    "x.to_netcdf(path = '/scratch/rd/nen/perClaudia/era5/fwi_era5_1980_2016_90th.nc')"
   ]
  }
 ],
 "metadata": {
  "kernelspec": {
   "display_name": "Python 3",
   "language": "python",
   "name": "python3"
  },
  "language_info": {
   "codemirror_mode": {
    "name": "ipython",
    "version": 3
   },
   "file_extension": ".py",
   "mimetype": "text/x-python",
   "name": "python",
   "nbconvert_exporter": "python",
   "pygments_lexer": "ipython3",
   "version": "3.6.8"
  }
 },
 "nbformat": 4,
 "nbformat_minor": 2
}
