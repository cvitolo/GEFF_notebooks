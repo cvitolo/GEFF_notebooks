{
 "cells": [
  {
   "cell_type": "code",
   "execution_count": 1,
   "metadata": {
    "scrolled": true
   },
   "outputs": [
    {
     "name": "stderr",
     "output_type": "stream",
     "text": [
      "ecmp (formerly known as ECMWF Metpy) version 1.2.4 (build Tue  7 Jan 14:12:14 UTC 2020 #1.2.4).\n",
      "/usr/local/apps/python3/3.6.8-01/lib/python3.6/site-packages/distributed/config.py:20: YAMLLoadWarning: calling yaml.load() without Loader=... is deprecated, as the default Loader is unsafe. Please read https://msg.pyyaml.org/load for full details.\n",
      "  defaults = yaml.load(f)\n"
     ]
    }
   ],
   "source": [
    "import datetime as dt\n",
    "import numpy\n",
    "import pandas as pd\n",
    "import metview\n",
    "import calendar\n",
    "from ecmp.MediaPy.StvlRetrieve import StvlRetrieveToGeopoints"
   ]
  },
  {
   "cell_type": "code",
   "execution_count": 3,
   "metadata": {
    "scrolled": true
   },
   "outputs": [],
   "source": [
    "# Define parameters of interest and related accumulation periods\n",
    "# https://confluence.ecmwf.int/display/VER/stvl+service\n",
    "# Parameters: total precipitation in the last 24h (mm), 2m temperature (K), relative humidity (%), wind speed (m/s)\n",
    "parameters = [\"tp\", \"2t\", \"r\", \"10ff\"]\n",
    "# Accumulation period (in seconds)\n",
    "obs_period = [24*3600, 0, 0, 0, 0]"
   ]
  },
  {
   "cell_type": "code",
   "execution_count": null,
   "metadata": {
    "scrolled": true
   },
   "outputs": [
    {
     "name": "stdout",
     "output_type": "stream",
     "text": [
      "DatetimeIndex(['2017-01-01 00:00:00+00:00', '2017-01-01 01:00:00+00:00',\n",
      "               '2017-01-01 02:00:00+00:00', '2017-01-01 03:00:00+00:00',\n",
      "               '2017-01-01 04:00:00+00:00', '2017-01-01 05:00:00+00:00',\n",
      "               '2017-01-01 06:00:00+00:00', '2017-01-01 07:00:00+00:00',\n",
      "               '2017-01-01 08:00:00+00:00', '2017-01-01 09:00:00+00:00',\n",
      "               ...\n",
      "               '2017-01-31 14:00:00+00:00', '2017-01-31 15:00:00+00:00',\n",
      "               '2017-01-31 16:00:00+00:00', '2017-01-31 17:00:00+00:00',\n",
      "               '2017-01-31 18:00:00+00:00', '2017-01-31 19:00:00+00:00',\n",
      "               '2017-01-31 20:00:00+00:00', '2017-01-31 21:00:00+00:00',\n",
      "               '2017-01-31 22:00:00+00:00', '2017-01-31 23:00:00+00:00'],\n",
      "              dtype='datetime64[ns, UTC]', length=744, freq='H')\n",
      "tp 86400\n",
      "2t 0\n"
     ]
    }
   ],
   "source": [
    "for month in range(1, 13):\n",
    "    # Find last day of month to set the time window to 1 calendar month\n",
    "    month_as_string = str(format(month, '02d'))\n",
    "    last_of_month = str(calendar.monthrange(2017, month)[1])    \n",
    "    period = pd.date_range('2017-' + month_as_string + '-01T00:00:00.000Z',\n",
    "                           '2017-' + month_as_string + '-' + last_of_month + 'T23:00:00.000Z',\n",
    "                           freq = 'H')\n",
    "    print(period)\n",
    "    \n",
    "    # Initialise empty list\n",
    "    appended_data = []\n",
    "    \n",
    "    # Retrieve observations from STVL\n",
    "    for param, obst in zip(parameters, obs_period):\n",
    "        print(param, obst)\n",
    "        for geo in StvlRetrieveToGeopoints(table = \"observation\",\n",
    "                                           parameter = param,\n",
    "                                           period = obst,\n",
    "                                           reference_datetimes = period):\n",
    "            data = geo.to_dataframe()\n",
    "            data['param'] = param\n",
    "            # store DataFrame in list\n",
    "            appended_data.append(data)\n",
    "        \n",
    "    # Concatenate list to dataframe\n",
    "    appended_data = pd.concat(appended_data)\n",
    "    # Write DataFrame to a csv file\n",
    "    appended_data.to_csv('/hugetmp/SYNOP/Observations_2017' + month_as_string + '.csv')"
   ]
  },
  {
   "cell_type": "code",
   "execution_count": null,
   "metadata": {},
   "outputs": [],
   "source": []
  }
 ],
 "metadata": {
  "kernelspec": {
   "display_name": "Python 3",
   "language": "python",
   "name": "python3"
  },
  "language_info": {
   "codemirror_mode": {
    "name": "ipython",
    "version": 3
   },
   "file_extension": ".py",
   "mimetype": "text/x-python",
   "name": "python",
   "nbconvert_exporter": "python",
   "pygments_lexer": "ipython3",
   "version": "3.6.8"
  }
 },
 "nbformat": 4,
 "nbformat_minor": 2
}
