{
 "cells": [
  {
   "cell_type": "code",
   "execution_count": null,
   "metadata": {
    "scrolled": true
   },
   "outputs": [],
   "source": [
    "import datetime as dt\n",
    "import numpy\n",
    "import pandas as pd\n",
    "import metview\n",
    "import calendar\n",
    "from ecmp.MediaPy.StvlRetrieve import StvlRetrieveToGeopoints"
   ]
  },
  {
   "cell_type": "code",
   "execution_count": null,
   "metadata": {
    "scrolled": true
   },
   "outputs": [],
   "source": [
    "# Define parameters of interest and related accumulation periods\n",
    "parameters = [\"tp\", \"2t\", \"2d\", \"10dd\", \"10ff\"] # precipitation\n",
    "obs_period = [24*3600, 0, 0, 0, 0]  # accumulation period (in seconds)"
   ]
  },
  {
   "cell_type": "code",
   "execution_count": null,
   "metadata": {
    "scrolled": true
   },
   "outputs": [],
   "source": [
    "for month in range(10, 13):\n",
    "    # Find last day of month to set the time window to 1 calendar month\n",
    "    month_as_string = str(format(month, '02d'))\n",
    "    last_of_month = str(calendar.monthrange(2017, month)[1])    \n",
    "    period = pd.date_range('2017-' + month_as_string + '-01T00:00:00.000Z',\n",
    "                           '2017-' + month_as_string + '-' + last_of_month + 'T23:00:00.000Z',\n",
    "                           freq = 'H')\n",
    "    print(period)\n",
    "    \n",
    "    # Initialise empty list\n",
    "    appended_data = []\n",
    "    \n",
    "    # Retrieve observations from STVL\n",
    "    for param, obst in zip(parameters, obs_period):\n",
    "        print(param, obst)\n",
    "        for geo in StvlRetrieveToGeopoints(table = \"observation\",\n",
    "                                           parameter = param,\n",
    "                                           period = obst,\n",
    "                                           reference_datetimes = period):\n",
    "            data = geo.to_dataframe()\n",
    "            data['param'] = param\n",
    "            # store DataFrame in list\n",
    "            appended_data.append(data)\n",
    "        \n",
    "    # Concatenate list to dataframe\n",
    "    appended_data = pd.concat(appended_data)\n",
    "    # Write DataFrame to a csv file\n",
    "    appended_data.to_csv('/scratch/mo/moc0/Observations_2017' + month_as_string + '.csv')"
   ]
  },
  {
   "cell_type": "code",
   "execution_count": null,
   "metadata": {},
   "outputs": [],
   "source": []
  }
 ],
 "metadata": {
  "kernelspec": {
   "display_name": "Python 3",
   "language": "python",
   "name": "python3"
  },
  "language_info": {
   "codemirror_mode": {
    "name": "ipython",
    "version": 3
   },
   "file_extension": ".py",
   "mimetype": "text/x-python",
   "name": "python",
   "nbconvert_exporter": "python",
   "pygments_lexer": "ipython3",
   "version": "3.6.8"
  }
 },
 "nbformat": 4,
 "nbformat_minor": 2
}
