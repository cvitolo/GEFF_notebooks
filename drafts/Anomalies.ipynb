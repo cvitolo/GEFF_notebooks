{
 "cells": [
  {
   "cell_type": "markdown",
   "metadata": {},
   "source": [
    "# Calculate anomalies"
   ]
  },
  {
   "cell_type": "code",
   "execution_count": 1,
   "metadata": {},
   "outputs": [],
   "source": [
    "# Standard imports\n",
    "import numpy as np\n",
    "import pandas as pd\n",
    "import datetime as dt\n",
    "import matplotlib.pyplot as plt\n",
    "import xarray as xr\n",
    "\n",
    "%matplotlib inline"
   ]
  },
  {
   "cell_type": "code",
   "execution_count": 2,
   "metadata": {},
   "outputs": [],
   "source": [
    "# Open fwi.nc as dataset\n",
    "ds = xr.open_dataset('/hugetmp/reanalysis/hres/fwi_198001_201907_Europe.nc')\n",
    "da = ds.fwi"
   ]
  },
  {
   "cell_type": "code",
   "execution_count": 3,
   "metadata": {},
   "outputs": [
    {
     "name": "stderr",
     "output_type": "stream",
     "text": [
      "/usr/local/apps/python3/3.6.9-01/lib/python3.6/site-packages/xarray/core/nanops.py:160: RuntimeWarning: Mean of empty slice\n",
      "  return np.nanmean(a, axis=axis, dtype=dtype)\n"
     ]
    }
   ],
   "source": [
    "gb = da.groupby('time.month')\n",
    "clim = gb.mean(dim = 'time', skipna = True)\n",
    "anom = gb - clim"
   ]
  },
  {
   "cell_type": "code",
   "execution_count": null,
   "metadata": {},
   "outputs": [],
   "source": [
    "# Plot a random date\n",
    "anom1 = anom[14450]\n",
    "anom1.plot();"
   ]
  },
  {
   "cell_type": "code",
   "execution_count": 4,
   "metadata": {},
   "outputs": [],
   "source": [
    "anom_mean = anom.mean(dim = ('lon', 'lat'))\n",
    "np.savetxt('/perm/mo/moc0/data/anom_mean_europe.csv', anom_mean, delimiter = ',')"
   ]
  },
  {
   "cell_type": "code",
   "execution_count": 6,
   "metadata": {},
   "outputs": [
    {
     "data": {
      "text/plain": [
       "<xarray.DataArray 'fwi' (month: 12, lat: 135, lon: 231)>\n",
       "array([[[ 0.11937 ,  0.133628, ...,       nan,       nan],\n",
       "        [ 0.182948,  0.167735, ...,       nan,       nan],\n",
       "        ...,\n",
       "        [      nan,       nan, ..., 11.802231, 12.690201],\n",
       "        [      nan,       nan, ..., 13.947642, 14.156335]],\n",
       "\n",
       "       [[ 0.112813,  0.124668, ...,       nan,       nan],\n",
       "        [ 0.171649,  0.155016, ...,       nan,       nan],\n",
       "        ...,\n",
       "        [      nan,       nan, ..., 16.221844, 17.403269],\n",
       "        [      nan,       nan, ..., 18.990257, 19.001852]],\n",
       "\n",
       "       ...,\n",
       "\n",
       "       [[ 0.143   ,  0.158682, ...,       nan,       nan],\n",
       "        [ 0.227931,  0.209707, ...,       nan,       nan],\n",
       "        ...,\n",
       "        [      nan,       nan, ..., 25.391375, 26.33503 ],\n",
       "        [      nan,       nan, ..., 27.222595, 27.187105]],\n",
       "\n",
       "       [[ 0.15359 ,  0.168779, ...,       nan,       nan],\n",
       "        [ 0.22991 ,  0.212691, ...,       nan,       nan],\n",
       "        ...,\n",
       "        [      nan,       nan, ..., 16.054852, 16.784796],\n",
       "        [      nan,       nan, ..., 18.078363, 18.21788 ]]], dtype=float32)\n",
       "Coordinates:\n",
       "  * lon      (lon) float32 -24.75 -24.46875 -24.1875 ... 39.375 39.65625 39.9375\n",
       "  * lat      (lat) float32 71.80322 71.522194 71.241165 ... 34.426216 34.145187\n",
       "  * month    (month) int64 1 2 3 4 5 6 7 8 9 10 11 12"
      ]
     },
     "execution_count": 6,
     "metadata": {},
     "output_type": "execute_result"
    }
   ],
   "source": [
    "clim"
   ]
  },
  {
   "cell_type": "code",
   "execution_count": null,
   "metadata": {},
   "outputs": [],
   "source": [
    "# Split array in positive and negative anomalies\n",
    "anom_pos = np.where(anom_mean <= 0, np.nan, anom_mean)\n",
    "anom_neg = np.where(anom_mean >= 0, np.nan, anom_mean)"
   ]
  },
  {
   "cell_type": "code",
   "execution_count": null,
   "metadata": {},
   "outputs": [],
   "source": [
    "fig, ax = plt.subplots()\n",
    "index = np.arange(len(anom))\n",
    "bar_width = 2\n",
    "opacity = 1\n",
    "error_config = {'ecolor': '0.3'}\n",
    "\n",
    "r1 = ax.bar(index, anom_pos, bar_width, alpha = opacity, color = 'r', error_kw = error_config)\n",
    "r2 = ax.bar(index + bar_width, anom_neg, bar_width, alpha = opacity, color = 'b', error_kw = error_config)\n",
    "\n",
    "plt.xlabel('Days since 1980-01-01')\n",
    "plt.ylabel('Anomalies')\n",
    "plt.title('FWI anomalies over Europe')\n",
    "\n",
    "plt.tight_layout()\n",
    "plt.show()"
   ]
  },
  {
   "cell_type": "code",
   "execution_count": null,
   "metadata": {},
   "outputs": [],
   "source": [
    "# Anomalies for South of France\n",
    "da_southfrance = da.loc[dict(lat = slice(44.25, 42.91), lon = slice(2.98, 6.89))]\n",
    "gb = da_southfrance.groupby('time.month')\n",
    "clim = gb.mean(dim = 'time')\n",
    "anom = gb - clim\n",
    "anom_mean = anom.mean(dim = ('lon', 'lat'))\n",
    "anom_pos = np.where(anom_mean <= 0, np.nan, anom_mean)\n",
    "anom_neg = np.where(anom_mean >= 0, np.nan, anom_mean)\n",
    "fig, ax = plt.subplots()\n",
    "index = np.arange(len(anom))\n",
    "bar_width = 2\n",
    "opacity = 1\n",
    "error_config = {'ecolor': '0.3'}\n",
    "r1 = ax.bar(index, anom_pos, bar_width, alpha = opacity, color = 'r', error_kw = error_config)\n",
    "r2 = ax.bar(index + bar_width, anom_neg, bar_width, alpha = opacity, color = 'b', error_kw = error_config)\n",
    "plt.ylabel('Anomalies')\n",
    "plt.tight_layout()\n",
    "plt.show()"
   ]
  },
  {
   "cell_type": "code",
   "execution_count": null,
   "metadata": {},
   "outputs": [],
   "source": [
    "# Anomalies for East of Spain\n",
    "da_eastspain = da.loc[dict(lat = slice(42.82, 36.92), lon = slice(-3.26, 0.57))]\n",
    "gb = da_eastspain.groupby('time.month')\n",
    "clim = gb.mean(dim = 'time')\n",
    "anom = gb - clim\n",
    "anom_mean = anom.mean(dim = ('lon', 'lat'))\n",
    "anom_pos = np.where(anom_mean <= 0, np.nan, anom_mean)\n",
    "anom_neg = np.where(anom_mean >= 0, np.nan, anom_mean)\n",
    "fig, ax = plt.subplots()\n",
    "index = np.arange(len(anom))\n",
    "bar_width = 2\n",
    "opacity = 1\n",
    "error_config = {'ecolor': '0.3'}\n",
    "r1 = ax.bar(index, anom_pos, bar_width, alpha = opacity, color = 'r', error_kw = error_config)\n",
    "r2 = ax.bar(index + bar_width, anom_neg, bar_width, alpha = opacity, color = 'b', error_kw = error_config)\n",
    "plt.ylabel('Anomalies')\n",
    "plt.tight_layout()\n",
    "plt.show()"
   ]
  },
  {
   "cell_type": "code",
   "execution_count": null,
   "metadata": {},
   "outputs": [],
   "source": [
    "# Anomalies for Tropical Africa\n",
    "ds = xr.open_dataset('/hugetmp/reanalysis/hres/fwi_198001_201907_TropicalAfrica.nc')\n",
    "da = ds.fwi\n",
    "gb = da.groupby('time.month')\n",
    "clim = gb.mean(dim = 'time', skipna = True)\n",
    "anom = gb - clim\n",
    "anom_mean = anom.mean(dim = ('lon', 'lat'))\n",
    "np.savetxt(\"/perm/mo/moc0/data/anom_mean_tropical_africa.csv\", anom_mean, delimiter = \",\")\n",
    "anom_pos = np.where(anom_mean <= 0, np.nan, anom_mean)\n",
    "anom_neg = np.where(anom_mean >= 0, np.nan, anom_mean)\n",
    "fig, ax = plt.subplots()\n",
    "index = np.arange(len(anom))\n",
    "bar_width = 2\n",
    "opacity = 1\n",
    "error_config = {'ecolor': '0.3'}\n",
    "r1 = ax.bar(index, anom_pos, bar_width, alpha = opacity, color = 'r', error_kw = error_config)\n",
    "r2 = ax.bar(index + bar_width, anom_neg, bar_width, alpha = opacity, color = 'b', error_kw = error_config)\n",
    "plt.ylabel('Anomalies')\n",
    "plt.tight_layout()\n",
    "plt.show()"
   ]
  },
  {
   "cell_type": "code",
   "execution_count": null,
   "metadata": {},
   "outputs": [],
   "source": [
    "ds = xr.open_dataset('/hugetmp/reanalysis/hres/fwi_198001_201907_TropicalAfrica.nc')\n",
    "da = ds.fwi\n",
    "gb = da.groupby('time.month')\n",
    "clim = gb.mean(dim = 'time', skipna = True)\n",
    "anom = gb - clim\n",
    "anom"
   ]
  },
  {
   "cell_type": "code",
   "execution_count": null,
   "metadata": {},
   "outputs": [],
   "source": []
  }
 ],
 "metadata": {
  "kernelspec": {
   "display_name": "Python 3",
   "language": "python",
   "name": "python3"
  },
  "language_info": {
   "codemirror_mode": {
    "name": "ipython",
    "version": 3
   },
   "file_extension": ".py",
   "mimetype": "text/x-python",
   "name": "python",
   "nbconvert_exporter": "python",
   "pygments_lexer": "ipython3",
   "version": "3.6.9"
  }
 },
 "nbformat": 4,
 "nbformat_minor": 2
}
