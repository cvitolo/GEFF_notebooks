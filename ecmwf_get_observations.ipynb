{
 "cells": [
  {
   "cell_type": "code",
   "execution_count": null,
   "metadata": {
    "scrolled": true
   },
   "outputs": [],
   "source": [
    "import datetime as dt\n",
    "import numpy\n",
    "import pandas as pd\n",
    "import metview\n",
    "import calendar\n",
    "from ecmp.MediaPy.StvlRetrieve import StvlRetrieveToGeopoints"
   ]
  },
  {
   "cell_type": "code",
   "execution_count": null,
   "metadata": {
    "scrolled": true
   },
   "outputs": [],
   "source": [
    "# Define parameters of interest and related accumulation periods\n",
    "# https://confluence.ecmwf.int/display/VER/stvl+service\n",
    "# Parameters:\n",
    "# total precipitation in the last 24h (mm), wind speed (m/s), 2m temperature (K), 2m dewpoint temperature (K), relative humidity (%)\n",
    "parameters = ['tp', '10ff', '2t', '2d', 'r']\n",
    "# Accumulation period (in seconds)\n",
    "obs_period = [24*3600, 0, 0, 0, 0]"
   ]
  },
  {
   "cell_type": "code",
   "execution_count": null,
   "metadata": {
    "scrolled": true
   },
   "outputs": [],
   "source": [
    "# The STVL service is limited to 2000 requests, I had to split the total number of requests into monthly chunks\n",
    "for month in range(1, 13):\n",
    "    # Find last day of month to set the time window to 1 calendar month\n",
    "    month_as_string = str(format(month, '02d'))\n",
    "    last_of_month = str(calendar.monthrange(2017, month)[1])    \n",
    "    period = pd.date_range('2017-' + month_as_string + '-01T00:00:00.000Z',\n",
    "                           '2017-' + month_as_string + '-' + last_of_month + 'T23:00:00.000Z',\n",
    "                           freq = 'H')\n",
    "    print(period)\n",
    "    \n",
    "    # Initialise empty list\n",
    "    appended_data = []\n",
    "    \n",
    "    # Retrieve observations from STVL\n",
    "    for param, obst in zip(parameters, obs_period):\n",
    "        print(param, obst)\n",
    "        for geo in StvlRetrieveToGeopoints(table = 'observation',\n",
    "                                           parameter = param,\n",
    "                                           period = obst,\n",
    "                                           reference_datetimes = period):\n",
    "            data = geo.to_dataframe()\n",
    "            data['param'] = param\n",
    "            # store DataFrame in list\n",
    "            appended_data.append(data)\n",
    "        \n",
    "    # Concatenate list to dataframe\n",
    "    appended_data = pd.concat(appended_data)\n",
    "    # Write DataFrame to a csv file\n",
    "    appended_data.to_csv('/hugetmp/SYNOP/Observations_2017' + month_as_string + '.csv')"
   ]
  }
 ],
 "metadata": {
  "kernelspec": {
   "display_name": "Python 3",
   "language": "python",
   "name": "python3"
  },
  "language_info": {
   "codemirror_mode": {
    "name": "ipython",
    "version": 3
   },
   "file_extension": ".py",
   "mimetype": "text/x-python",
   "name": "python",
   "nbconvert_exporter": "python",
   "pygments_lexer": "ipython3",
   "version": "3.6.8"
  }
 },
 "nbformat": 4,
 "nbformat_minor": 2
}
